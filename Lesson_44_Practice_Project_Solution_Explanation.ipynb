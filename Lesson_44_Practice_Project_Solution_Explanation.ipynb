{
 "cells": [
  {
   "cell_type": "markdown",
   "id": "88c583de",
   "metadata": {
    "id": "88c583de"
   },
   "source": [
    "# __Beyond Market Trends: Predicting future house prices__"
   ]
  },
  {
   "cell_type": "markdown",
   "id": "36dd6c1e",
   "metadata": {
    "id": "36dd6c1e"
   },
   "source": [
    "## __Objective__\n",
    "Your objective is to build the house price prediction model using linear algebra principles in Python."
   ]
  },
  {
   "cell_type": "markdown",
   "id": "fc8e1081",
   "metadata": {
    "id": "fc8e1081"
   },
   "source": [
    "## __Steps to Perform__\n",
    "1. Data Preparartion and Split\n",
    "2. Create a function **linear_regression()** to calculate the coefficients of the linear equation using the formula: **coefficients=〖(X^T.X)〗^(-1).X^T.y*\n",
    "3. Create the function **estimate_house_price(coefficients, new_features)** that predicts the price of the house\n",
    "   "
   ]
  },
  {
   "cell_type": "markdown",
   "id": "bf30f7e1-69b9-45d6-aa13-d90e5247b47d",
   "metadata": {
    "id": "bf30f7e1-69b9-45d6-aa13-d90e5247b47d"
   },
   "source": [
    "### Step 1: Data Preparartion and Split"
   ]
  },
  {
   "cell_type": "code",
   "execution_count": 1,
   "id": "8550cd88",
   "metadata": {
    "id": "8550cd88",
    "outputId": "afde782f-6868-4117-81f1-c73b392770f5"
   },
   "outputs": [
    {
     "name": "stdout",
     "output_type": "stream",
     "text": [
      "X:\n",
      " [[1500    3    2  400]\n",
      " [1800    4    3  500]\n",
      " [1200    2    1  300]\n",
      " [2100    5    3  550]\n",
      " [1400    3    2  350]\n",
      " [1600    4    2  450]\n",
      " [1300    3    1  320]\n",
      " [2000    4    3  480]\n",
      " [1750    3    2  420]\n",
      " [2400    5    4  600]\n",
      " [1100    2    1  280]\n",
      " [1850    4    3  530]\n",
      " [2500    5    4  620]\n",
      " [1950    4    2  490]\n",
      " [1450    3    2  380]\n",
      " [1350    2    1  310]\n",
      " [2200    4    3  530]\n",
      " [2050    4    3  520]\n",
      " [1650    3    2  410]\n",
      " [2300    5    4  590]]\n",
      "y:\n",
      " [200000 250000 180000 280000 190000 220000 185000 270000 240000 320000\n",
      " 160000 290000 340000 280000 210000 175000 310000 290000 225000 330000]\n"
     ]
    }
   ],
   "source": [
    "import numpy as np\n",
    "\n",
    "# Data Preparation\n",
    "\n",
    "# Input dataset contains contains columns: House Area (sq ft), No. of Bedrooms, Bathrooms, Garage Size (sq ft), Price($)\n",
    "data = np.array([[1500,3,2,400,200000],\n",
    "                 [1800,4,3,500,250000],\n",
    "                 [1200,2,1,300,180000],\n",
    "                 [2100,5,3,550,280000],\n",
    "                 [1400,3,2,350,190000],\n",
    "                 [1600,4,2,450,220000],\n",
    "                 [1300,3,1,320,185000],\n",
    "                 [2000,4,3,480,270000],\n",
    "                 [1750,3,2,420,240000],\n",
    "                 [2400,5,4,600,320000],\n",
    "                 [1100,2,1,280,160000],\n",
    "                 [1850,4,3,530,290000],\n",
    "                 [2500,5,4,620,340000],\n",
    "                 [1950,4,2,490,280000],\n",
    "                 [1450,3,2,380,210000],\n",
    "                 [1350,2,1,310,175000],\n",
    "                 [2200,4,3,530,310000],\n",
    "                 [2050,4,3,520,290000],\n",
    "                 [1650,3,2,410,225000],\n",
    "                 [2300,5,4,590,330000]])\n",
    "\n",
    "# Create an array X to store the features/independent variables -> All columns except the last one\n",
    "X = data[:, :-1]\n",
    "# Create an array y to store the target variable: Price -> Only the last column\n",
    "y = data[:, -1]\n",
    "\n",
    "# Print the values to verify your results\n",
    "print(f\"X:\\n {X}\")\n",
    "print(f\"y:\\n {y}\")"
   ]
  },
  {
   "cell_type": "markdown",
   "id": "3f74653b-1bf8-4bf4-9f7c-d019d4bddefe",
   "metadata": {
    "id": "3f74653b-1bf8-4bf4-9f7c-d019d4bddefe"
   },
   "source": [
    "### Step 2: Create a function **linear_regression()** to calculate the coefficients of the linear equation using the formula: **coefficients=〖(X^T.X)〗^(-1).X^T.y**\n",
    "\n",
    "#### The formula (X^T.X)^(-1).X^T.y represents the solution for the least-squares regression coefficients (β), a common technique used in statistics and machine learning to find the best-fitting line (or plane, etc.) for a set of data. \n",
    "\n",
    "Here's a breakdown:\n",
    "\n",
    "- X: A matrix containing the predictor (independent) variables. \n",
    "- X^T: The transpose of matrix X. \n",
    "- y: A vector containing the response (dependent) variable. \n",
    "- (X^T.X)^(-1): The inverse of the matrix product of X^T and X. \n",
    "- .(dot): matrix multiplication \n",
    "- Solution β: The result of this calculation, (X^T.X)^(-1)X^T y, gives you the optimal vector of coefficients (β) that minimize the sum of squared errors between your predicted values and the actual values of y. "
   ]
  },
  {
   "cell_type": "code",
   "execution_count": 2,
   "id": "2d7f3775",
   "metadata": {},
   "outputs": [
    {
     "name": "stdout",
     "output_type": "stream",
     "text": [
      "[[1500 1800 1200 2100 1400 1600 1300 2000 1750 2400 1100 1850 2500 1950\n",
      "  1450 1350 2200 2050 1650 2300]\n",
      " [   3    4    2    5    3    4    3    4    3    5    2    4    5    4\n",
      "     3    2    4    4    3    5]\n",
      " [   2    3    1    3    2    2    1    3    2    4    1    3    4    2\n",
      "     2    1    3    3    2    4]\n",
      " [ 400  500  300  550  350  450  320  480  420  600  280  530  620  490\n",
      "   380  310  530  520  410  590]]\n"
     ]
    }
   ],
   "source": [
    "X_transpose = np.transpose(X)\n",
    "print(X_transpose)"
   ]
  },
  {
   "cell_type": "markdown",
   "id": "7fc01798",
   "metadata": {},
   "source": [
    "### Multiplying a matrix by its transpose\n",
    "https://www.youtube.com/watch?v=1GJHdf5JXoE"
   ]
  },
  {
   "cell_type": "code",
   "execution_count": 3,
   "id": "74ef8d96",
   "metadata": {},
   "outputs": [
    {
     "name": "stdout",
     "output_type": "stream",
     "text": [
      "(4, 20)\n",
      "(20, 4)\n"
     ]
    }
   ],
   "source": [
    "\n",
    "print(X_transpose.shape)\n",
    "print(X.shape)"
   ]
  },
  {
   "cell_type": "code",
   "execution_count": 4,
   "id": "fc526ebf",
   "metadata": {},
   "outputs": [
    {
     "name": "stdout",
     "output_type": "stream",
     "text": [
      "[[66037500   134750    92350 16805000]\n",
      " [  134750      278      190    34420]\n",
      " [   92350      190      134    23580]\n",
      " [16805000    34420    23580  4288500]]\n"
     ]
    }
   ],
   "source": [
    "XTX = np.dot(X_transpose, X)\n",
    "print(XTX)"
   ]
  },
  {
   "cell_type": "markdown",
   "id": "e765fbdc",
   "metadata": {},
   "source": [
    "### Finding the inverse of the dot product of a matrix and its transpose"
   ]
  },
  {
   "cell_type": "code",
   "execution_count": 5,
   "id": "328ae24b",
   "metadata": {},
   "outputs": [
    {
     "name": "stdout",
     "output_type": "stream",
     "text": [
      "[[ 5.69627683e-06  4.24115410e-04 -5.71081897e-06 -2.56941410e-05]\n",
      " [ 4.24115410e-04  6.51278809e-01 -1.06510987e-01 -6.30354366e-03]\n",
      " [-5.71081897e-06 -1.06510987e-01  2.48204055e-01 -4.87483536e-04]\n",
      " [-2.56941410e-05 -6.30354366e-03 -4.87483536e-04  1.54192112e-04]]\n"
     ]
    }
   ],
   "source": [
    "inv_XTX = np.linalg.inv(XTX)\n",
    "print(inv_XTX)"
   ]
  },
  {
   "cell_type": "markdown",
   "id": "2a51ab7d",
   "metadata": {},
   "source": [
    "### Finding the dot product of the inverse of the dot product of a matrix and its transpose(inv_XTX) and the transpose of the matrix (X_transpose)."
   ]
  },
  {
   "cell_type": "code",
   "execution_count": 8,
   "id": "a121ddc0",
   "metadata": {},
   "outputs": [
    {
     "name": "stdout",
     "output_type": "stream",
     "text": [
      "(4, 4)\n",
      "(4, 20)\n",
      "[[-4.72316540e-04 -9.14442994e-04 -3.01900854e-05 -6.61515821e-05\n",
      "   2.42762825e-04 -7.63280494e-04  4.49670189e-04  7.38695191e-04\n",
      "   4.37869849e-04  3.52313601e-04 -8.59349497e-05 -1.40045338e-03\n",
      "   4.08058465e-04  2.02650759e-04 -2.43247562e-04  5.67310030e-04\n",
      "   5.93243510e-04 -4.25660512e-06  1.25183576e-04  3.96273274e-05]\n",
      " [-1.44429897e-01 -1.02781818e-01 -1.86077976e-01  3.60554430e-01\n",
      "   1.28335745e-01  2.34083270e-01  3.81541501e-01  1.08112137e-01\n",
      "  -1.64471918e-01  6.61008834e-02 -1.02418644e-01 -2.70682358e-01\n",
      "  -1.75584488e-02  1.30381917e-01 -3.95647943e-02 -1.85496101e-01\n",
      "  -1.22241964e-01 -1.22823839e-01 -1.43848022e-01  8.67247790e-02]\n",
      " [-2.66844928e-02  6.45469764e-02 -1.17915962e-01 -6.80514330e-02\n",
      "  -1.73923408e-03 -1.58140738e-01 -2.34747701e-01  7.31544833e-02\n",
      "  -3.78618682e-02  1.54065200e-01 -1.07595209e-01  4.96369294e-02\n",
      "   1.43744447e-01 -1.79638866e-01 -1.66492811e-02 -1.23647420e-01\n",
      "   4.76381427e-02  5.33696009e-02 -3.24159510e-02  1.59511117e-01]\n",
      " [ 3.25003541e-03  4.16997715e-03  2.33009367e-03 -2.13220319e-03\n",
      "  -1.89015611e-03  2.08668326e-03 -3.45902184e-03 -4.05269329e-03\n",
      "  -8.96575857e-05 -2.61832340e-03  1.81566552e-03  7.51103347e-03\n",
      "  -2.10389525e-03 -7.38581581e-04  1.45090021e-03  1.78936470e-05\n",
      "  -1.48191587e-03  8.30284155e-04  9.37835388e-04 -1.59083042e-03]]\n",
      "(4, 20)\n"
     ]
    }
   ],
   "source": [
    "print(inv_XTX.shape)\n",
    "print(X_transpose.shape)\n",
    "\n",
    "inv_XTX_XT = np.dot(inv_XTX, X_transpose)\n",
    "print(inv_XTX_XT)\n",
    "print(inv_XTX_XT.shape)"
   ]
  },
  {
   "cell_type": "markdown",
   "id": "d9fbf963",
   "metadata": {},
   "source": [
    "### Find the dot product of inv_XTX_XT and y"
   ]
  },
  {
   "cell_type": "code",
   "execution_count": null,
   "id": "8bcb964f",
   "metadata": {},
   "outputs": [],
   "source": [
    "print(\"inv_XTX_XT.shape\",inv_XTX_XT.shape)\n",
    "print(\"y.shape\", y.shape)\n",
    "\n",
    "coefficients = np.dot(inv_XTX_XT, y)\n",
    "\n",
    "print(coefficients)"
   ]
  },
  {
   "cell_type": "code",
   "execution_count": null,
   "id": "c12df821",
   "metadata": {
    "id": "c12df821",
    "outputId": "6fe11996-b391-48ef-a43a-44d02374ff97"
   },
   "outputs": [],
   "source": [
    "\n",
    "def linear_regression(X, y):\n",
    "    X_transpose = np.transpose(X) # Calculate the transpose of X\n",
    "    XTX = np.dot(X_transpose, X) # Calculate the dot product of X and X_transpose\n",
    "    coefficients = np.dot(np.dot(np.linalg.inv(XTX),X_transpose), y) # Find the coefficients using the formula\n",
    "    return coefficients\n",
    "\n",
    "coefficients = linear_regression(X, y)\n",
    "\n",
    "# Print the values to verify your results\n",
    "print(coefficients)"
   ]
  },
  {
   "cell_type": "markdown",
   "id": "cdb6d1da-d608-4dcd-887b-ec27fec8490d",
   "metadata": {
    "id": "cdb6d1da-d608-4dcd-887b-ec27fec8490d"
   },
   "source": [
    "### Step 3: Create the function **estimate_house_price(coefficients, new_features)** that predicts the price of the house"
   ]
  },
  {
   "cell_type": "code",
   "execution_count": null,
   "id": "dc6341f6",
   "metadata": {},
   "outputs": [],
   "source": [
    "# Estimate the price of a house with the following features:\n",
    "    # Area = 1800 sq ft\n",
    "    # Bedrooms = 3\n",
    "    # Bathrooms = 2\n",
    "    # Garage = 400 sq ft\n",
    "    \n",
    "    \n",
    "home_price = 79.35099648 * 1850 + (-12162.41836142) * 4 + (-1854.29828123) * 3 + 343.14126097 * 530\n",
    "print(round(home_price,0))"
   ]
  },
  {
   "cell_type": "code",
   "execution_count": null,
   "id": "72af4540",
   "metadata": {
    "id": "72af4540",
    "outputId": "060e7f1d-3272-49ca-95a5-6001a4e722a1"
   },
   "outputs": [],
   "source": [
    "# Calculate the estimated price and return the output\n",
    "def estimate_house_price(coefficients, new_features):\n",
    "    estimated_price = np.dot(coefficients, new_features)\n",
    "    return estimated_price\n",
    "\n",
    "# Estimate the price of a house with the following features:\n",
    "    # Area = 1800 sq ft\n",
    "    # Bedrooms = 3\n",
    "    # Bathrooms = 2\n",
    "    # Garage = 400 sq ft\n",
    "\n",
    "# Create a new array that stores the features listed above\n",
    "new_features = np.array([1800, 3, 2, 400])\n",
    "\n",
    "estimated_price = estimate_house_price(coefficients, new_features)\n",
    "\n",
    "# Print the result\n",
    "print(f\"Estimated Price: ${round(estimated_price)}\")"
   ]
  },
  {
   "cell_type": "code",
   "execution_count": null,
   "id": "239503d7-7ec3-4c8c-ac2e-b9244133b0d9",
   "metadata": {
    "id": "239503d7-7ec3-4c8c-ac2e-b9244133b0d9"
   },
   "outputs": [],
   "source": []
  }
 ],
 "metadata": {
  "colab": {
   "provenance": []
  },
  "kernelspec": {
   "display_name": "Python 3 (ipykernel)",
   "language": "python",
   "name": "python3"
  },
  "language_info": {
   "codemirror_mode": {
    "name": "ipython",
    "version": 3
   },
   "file_extension": ".py",
   "mimetype": "text/x-python",
   "name": "python",
   "nbconvert_exporter": "python",
   "pygments_lexer": "ipython3",
   "version": "3.10.9"
  }
 },
 "nbformat": 4,
 "nbformat_minor": 5
}
