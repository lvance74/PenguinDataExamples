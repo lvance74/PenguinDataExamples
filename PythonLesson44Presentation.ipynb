{
 "cells": [
  {
   "cell_type": "markdown",
   "id": "8893be26",
   "metadata": {
    "slideshow": {
     "slide_type": "slide"
    }
   },
   "source": [
    "<h1>Python Lesson 44</h1>\n",
    "<img src=\"PythonLesson44TitleSlide.png\" />"
   ]
  },
  {
   "cell_type": "markdown",
   "id": "8a6c6e50",
   "metadata": {
    "slideshow": {
     "slide_type": "slide"
    }
   },
   "source": [
    "<img src=\"PythonLesson44LearningObjectives.png\" />"
   ]
  },
  {
   "cell_type": "markdown",
   "id": "eaa51155",
   "metadata": {
    "slideshow": {
     "slide_type": "slide"
    }
   },
   "source": [
    "<img src=\"PythonLesson44LinearAlgebraApplications.png\" width=\"1200\" />"
   ]
  },
  {
   "cell_type": "markdown",
   "id": "7db66bcf",
   "metadata": {
    "slideshow": {
     "slide_type": "slide"
    }
   },
   "source": [
    "<img src=\"PythonLesson44IntroToLinearAlgebra.png\" />"
   ]
  },
  {
   "cell_type": "markdown",
   "id": "55169903",
   "metadata": {
    "slideshow": {
     "slide_type": "slide"
    }
   },
   "source": [
    "<img src=\"PythonLesson44DataLinearAlgebra.png\" />"
   ]
  },
  {
   "cell_type": "markdown",
   "id": "6de3d439",
   "metadata": {
    "slideshow": {
     "slide_type": "slide"
    }
   },
   "source": [
    "<img src=\"PythonLesson44Matrix.png\" />"
   ]
  },
  {
   "cell_type": "code",
   "execution_count": 12,
   "id": "1320baa0",
   "metadata": {
    "slideshow": {
     "slide_type": "slide"
    }
   },
   "outputs": [
    {
     "name": "stdout",
     "output_type": "stream",
     "text": [
      "[[ 3  7 10]\n",
      " [ 7  2  6]\n",
      " [ 4  8  5]]\n",
      "[[1 2 2]\n",
      " [2 5 7]\n",
      " [2 7 9]]\n",
      "(3, 3)\n"
     ]
    }
   ],
   "source": [
    "# Create a 3 x 3 matrix of random integers between 1 and 10\n",
    "\n",
    "# You only need to import a library or module once in your Jupyter Notebook.\n",
    "# numpy is commonly aliased as np.  It's not required but recommended.\n",
    "import numpy as np\n",
    "\n",
    "# Use np.random.randint(min, max, size=(rows, cols))\n",
    "\n",
    "m = np.random.randint(1, 11, size=(3, 3))\n",
    "print(m)\n",
    "\n",
    "m2 = np.array([[1, 2, 2],[2, 5, 7], [2, 7, 9]]) # another method for creating a matrix\n",
    "print(m2)\n",
    "print(m2.shape)"
   ]
  },
  {
   "cell_type": "markdown",
   "id": "5cea7674",
   "metadata": {
    "slideshow": {
     "slide_type": "slide"
    }
   },
   "source": [
    "<img src=\"PythonLesson44Vectors.png\" />"
   ]
  },
  {
   "cell_type": "markdown",
   "id": "8a4c5cc4",
   "metadata": {
    "slideshow": {
     "slide_type": "slide"
    }
   },
   "source": [
    "<img src=\"PythonLesson44SimpleVector.png\" />"
   ]
  },
  {
   "cell_type": "code",
   "execution_count": 3,
   "id": "4867243c",
   "metadata": {
    "slideshow": {
     "slide_type": "slide"
    }
   },
   "outputs": [
    {
     "name": "stdout",
     "output_type": "stream",
     "text": [
      "row vector: [1 2 3]\n",
      "column vector:\n",
      " [[1]\n",
      " [2]\n",
      " [3]]\n"
     ]
    }
   ],
   "source": [
    "# Create a row vector\n",
    "rowVector = np.array([1, 2, 3])\n",
    "print(f'row vector: {rowVector}')\n",
    "\n",
    "# Create a column vector\n",
    "columnVector = np.array([[1], [2], [3]])\n",
    "print(f'column vector:\\n {columnVector}')"
   ]
  },
  {
   "cell_type": "markdown",
   "id": "f5600761",
   "metadata": {
    "slideshow": {
     "slide_type": "slide"
    }
   },
   "source": [
    "<img src=\"PythonLesson44Scalars.png\" />"
   ]
  },
  {
   "cell_type": "code",
   "execution_count": 12,
   "id": "09535314",
   "metadata": {
    "slideshow": {
     "slide_type": "slide"
    }
   },
   "outputs": [
    {
     "name": "stdout",
     "output_type": "stream",
     "text": [
      "The area of a rectangle with a length of 12, and a width of 8, is 96.\n"
     ]
    }
   ],
   "source": [
    "# Calculate the area of a rectangle.  The length, width, and area are all scalars.\n",
    "\n",
    "\n",
    "l = 12 # length \n",
    "w = 8 # width\n",
    "a = l * w  # area of a rectangle\n",
    "\n",
    "print(f\"The area of a rectangle with a length of {l} and a width of {w} is {a}.\")"
   ]
  },
  {
   "cell_type": "code",
   "execution_count": 6,
   "id": "cb20db53",
   "metadata": {
    "slideshow": {
     "slide_type": "slide"
    }
   },
   "outputs": [
    {
     "name": "stdout",
     "output_type": "stream",
     "text": [
      "Sum: [5 7 9]\n",
      "Difference: [3 3 3]\n"
     ]
    }
   ],
   "source": [
    "# Vector math\n",
    "\n",
    "# Creating vectors\n",
    "v1 = np.array([1, 2, 3]) # Is this a row or column vector?\n",
    "v2 = np.array([4, 5, 6])\n",
    "\n",
    "# Vector addition\n",
    "vSum = v1 + v2\n",
    "print(\"Sum:\", vSum)  # Output: Sum: [5 7 9]\n",
    "\n",
    "# Vector subtraction\n",
    "vSubtract = v2 - v1\n",
    "print(\"Difference:\", vSubtract)  # Output: Difference: [3 3 3]\n",
    "\n",
    "\n"
   ]
  },
  {
   "cell_type": "code",
   "execution_count": 7,
   "id": "9310ab4f",
   "metadata": {
    "slideshow": {
     "slide_type": "slide"
    }
   },
   "outputs": [
    {
     "name": "stdout",
     "output_type": "stream",
     "text": [
      "Scaled Vector: [2 4 6]\n",
      "Dot Product: 32\n"
     ]
    }
   ],
   "source": [
    "# Scalar multiplication\n",
    "scalar = 2\n",
    "vector_scaled = v1 * scalar\n",
    "print(\"Scaled Vector:\", vector_scaled)  # Output: Scaled Vector: [2 4 6]\n",
    "\n",
    "# Dot product\n",
    "dot_product = np.dot(v1, v2)\n",
    "print(\"Dot Product:\", dot_product)  # Output: Dot Product: 32\n"
   ]
  },
  {
   "cell_type": "markdown",
   "id": "25f09f9e",
   "metadata": {
    "slideshow": {
     "slide_type": "slide"
    }
   },
   "source": [
    "<img src=\"PythonLesson44MatrixOperations.png\" />"
   ]
  },
  {
   "cell_type": "markdown",
   "id": "6600d278",
   "metadata": {
    "slideshow": {
     "slide_type": "slide"
    }
   },
   "source": [
    "<img src=\"PythonLesson44MatrixAddition.png\" />"
   ]
  },
  {
   "cell_type": "code",
   "execution_count": 24,
   "id": "6e871f72",
   "metadata": {
    "slideshow": {
     "slide_type": "slide"
    }
   },
   "outputs": [
    {
     "name": "stdout",
     "output_type": "stream",
     "text": [
      "[[ 2 -1  5]\n",
      " [10  3  1]\n",
      " [-7  0  3]]\n",
      "[[ 2 -1  5]\n",
      " [10  3  1]\n",
      " [-7  0  3]]\n",
      "[[ 5  1 14]\n",
      " [ 3 -4  7]\n",
      " [-6  2 -1]]\n"
     ]
    }
   ],
   "source": [
    "# Create two matrices and add them to create a new matrix\n",
    "\n",
    "matrix1 = np.array([[2, -1, 5],[10, 3, 1], [-7, 0, 3]])\n",
    "print(matrix1)\n",
    "\n",
    "matrix2 = np.array([[3, 2, 9],[-7, -7, 6], [1, 2, -4]])\n",
    "print(matrix1)\n",
    "\n",
    "matrix3 = matrix1 + matrix2\n",
    "print(matrix3)"
   ]
  },
  {
   "cell_type": "markdown",
   "id": "5d26f073",
   "metadata": {
    "slideshow": {
     "slide_type": "slide"
    }
   },
   "source": [
    "<img src=\"PythonLesson44MatrixSubtraction.png\" />"
   ]
  },
  {
   "cell_type": "code",
   "execution_count": 27,
   "id": "751c480e",
   "metadata": {
    "slideshow": {
     "slide_type": "slide"
    }
   },
   "outputs": [
    {
     "name": "stdout",
     "output_type": "stream",
     "text": [
      "[[ 2 -9]\n",
      " [-6  7]\n",
      " [-2 -1]]\n"
     ]
    }
   ],
   "source": [
    "matrix4 = np.array([[5, -9],[0, 2], [0, 4]])\n",
    "matrix5 = np.array([[3, 0],[6, -5], [2, 5]])\n",
    "matrix6 = matrix4 - matrix5\n",
    "print(matrix6)"
   ]
  },
  {
   "cell_type": "markdown",
   "id": "6c39df74",
   "metadata": {
    "slideshow": {
     "slide_type": "slide"
    }
   },
   "source": [
    "<img src=\"PythonLesson44ScalarMultiplication.png\" />"
   ]
  },
  {
   "cell_type": "code",
   "execution_count": 30,
   "id": "7c6e998f",
   "metadata": {
    "slideshow": {
     "slide_type": "slide"
    }
   },
   "outputs": [
    {
     "name": "stdout",
     "output_type": "stream",
     "text": [
      "[[ 4  0  3]\n",
      " [-7  1  2]]\n",
      "Multiply matrix by 2:\n",
      "[[  8   0   6]\n",
      " [-14   2   4]]\n",
      "Multiply matrix by 1/2:\n",
      "[[ 0.2   0.    0.15]\n",
      " [-0.35  0.05  0.1 ]]\n",
      "Multiply matrix by -1:\n",
      "[[-4  0 -3]\n",
      " [ 7 -1 -2]]\n"
     ]
    }
   ],
   "source": [
    "matrix7 = np.array([[4, 0, 3],[-7, 1, 2]])\n",
    "print(matrix7)\n",
    "print(\"Multiply matrix by 2:\")\n",
    "print(matrix7 * 2)\n",
    "\n",
    "print(\"Multiply matrix by 1/2:\")\n",
    "print(matrix7 * 0.05)\n",
    "\n",
    "print(\"Multiply matrix by -1:\")\n",
    "print(matrix7 * -1)\n",
    "\n"
   ]
  },
  {
   "cell_type": "markdown",
   "id": "41ccffb2",
   "metadata": {
    "slideshow": {
     "slide_type": "slide"
    }
   },
   "source": [
    "<img src=\"PythonLesson44MatrixMultiplication.png\" />"
   ]
  },
  {
   "cell_type": "code",
   "execution_count": 8,
   "id": "2d73979a",
   "metadata": {
    "slideshow": {
     "slide_type": "slide"
    }
   },
   "outputs": [
    {
     "name": "stdout",
     "output_type": "stream",
     "text": [
      "[[1 2 2]\n",
      " [2 5 7]\n",
      " [2 7 9]]\n",
      "[[7 4 2]\n",
      " [6 8 1]\n",
      " [3 7 8]]\n",
      "[[ 7  8  4]\n",
      " [12 40  7]\n",
      " [ 6 49 72]]\n"
     ]
    }
   ],
   "source": [
    "matrix8 = np.array([[1, 2, 2],[2, 5, 7],[2, 7, 9]])\n",
    "print(matrix8)\n",
    "matrix9 = np.array([[7, 4, 2],[6, 8, 1],[3, 7, 8]])\n",
    "print(matrix9)\n",
    "matrix10 = matrix8 * matrix9\n",
    "print(matrix10)"
   ]
  },
  {
   "cell_type": "code",
   "execution_count": 39,
   "id": "5ff83fa5",
   "metadata": {
    "slideshow": {
     "slide_type": "slide"
    }
   },
   "outputs": [
    {
     "name": "stdout",
     "output_type": "stream",
     "text": [
      "[[25 34]\n",
      " [65 97]]\n"
     ]
    }
   ],
   "source": [
    "matrix11 = np.array([[1, 2, 2],[2, 5, 7]])\n",
    "matrix12 = np.array([[7, 4],[6, 8],[3, 7]])\n",
    "\n",
    "matrix13 = np.matmul(matrix11, matrix12)\n",
    "print(matrix13)"
   ]
  },
  {
   "cell_type": "markdown",
   "id": "c1312614",
   "metadata": {
    "slideshow": {
     "slide_type": "slide"
    }
   },
   "source": [
    "<img src=\"PythonLesson44DotProductVector.png\" />"
   ]
  },
  {
   "cell_type": "code",
   "execution_count": 41,
   "id": "92f43412",
   "metadata": {
    "slideshow": {
     "slide_type": "slide"
    }
   },
   "outputs": [
    {
     "name": "stdout",
     "output_type": "stream",
     "text": [
      "[ 5  6 -7]\n",
      "<class 'numpy.ndarray'>\n",
      "[-1  2 -5]\n",
      "<class 'numpy.ndarray'>\n",
      "42\n"
     ]
    }
   ],
   "source": [
    "vector1 = np.array([5, 6, -7])\n",
    "print(vector1)\n",
    "\n",
    "vector2 = np.array([-1, 2, -5])\n",
    "print(vector2)\n",
    "\n",
    "vector_dp = np.dot(vector1, vector2)\n",
    "print(vector_dp)"
   ]
  },
  {
   "cell_type": "markdown",
   "id": "5aa901a4",
   "metadata": {
    "slideshow": {
     "slide_type": "slide"
    }
   },
   "source": [
    "<img src=\"PythonLesson44MatrixTranspose.png\" />"
   ]
  },
  {
   "cell_type": "markdown",
   "id": "758faec4",
   "metadata": {
    "slideshow": {
     "slide_type": "slide"
    }
   },
   "source": [
    "<img src=\"PythonLesson44MatrixTransposeExample.png\" />"
   ]
  },
  {
   "cell_type": "code",
   "execution_count": 43,
   "id": "79f09063",
   "metadata": {
    "slideshow": {
     "slide_type": "slide"
    }
   },
   "outputs": [
    {
     "name": "stdout",
     "output_type": "stream",
     "text": [
      "[[ 1  9 -6]\n",
      " [ 5  3 -7]]\n",
      "--------\n",
      "[[ 1  5]\n",
      " [ 9  3]\n",
      " [-6 -7]]\n"
     ]
    }
   ],
   "source": [
    "matrix14 = np.array([[1, 9, -6], [5, 3, -7]])\n",
    "print(matrix14)\n",
    "\n",
    "print(\"--------\")\n",
    "\n",
    "matrix14T = matrix14.T\n",
    "print(matrix14T)"
   ]
  },
  {
   "cell_type": "code",
   "execution_count": 9,
   "id": "4ec189cb",
   "metadata": {
    "slideshow": {
     "slide_type": "slide"
    }
   },
   "outputs": [
    {
     "data": {
      "text/html": [
       "\n",
       "        <iframe\n",
       "            width=\"900\"\n",
       "            height=\"500\"\n",
       "            src=\"https://www.mathsisfun.com/algebra/matrix-determinant.html\"\n",
       "            frameborder=\"0\"\n",
       "            allowfullscreen\n",
       "            \n",
       "        ></iframe>\n",
       "        "
      ],
      "text/plain": [
       "<IPython.lib.display.IFrame at 0x1062828c0>"
      ]
     },
     "metadata": {},
     "output_type": "display_data"
    }
   ],
   "source": [
    "from IPython.display import IFrame, display\n",
    "\n",
    "# Example: Embed the Wikipedia homepage\n",
    "iframe = IFrame(\"https://www.mathsisfun.com/algebra/matrix-determinant.html\", width=900, height=500)\n",
    "display(iframe)"
   ]
  },
  {
   "cell_type": "code",
   "execution_count": 11,
   "id": "3e22fe44",
   "metadata": {
    "slideshow": {
     "slide_type": "slide"
    }
   },
   "outputs": [
    {
     "name": "stdout",
     "output_type": "stream",
     "text": [
      "[[3 8]\n",
      " [4 6]]\n",
      "The determinant of matrix 15 is -14.0\n"
     ]
    }
   ],
   "source": [
    "matrix15 = np.array([[3, 8], [4, 6]])\n",
    "print(matrix15)\n",
    "\n",
    "matrix15det = np.linalg.det(matrix15)\n",
    "print(f\"The determinant of matrix 15 is {matrix15det.round()}\")"
   ]
  },
  {
   "cell_type": "code",
   "execution_count": null,
   "id": "726784fc",
   "metadata": {},
   "outputs": [],
   "source": []
  }
 ],
 "metadata": {
  "celltoolbar": "Slideshow",
  "kernelspec": {
   "display_name": "Python 3 (ipykernel)",
   "language": "python",
   "name": "python3"
  },
  "language_info": {
   "codemirror_mode": {
    "name": "ipython",
    "version": 3
   },
   "file_extension": ".py",
   "mimetype": "text/x-python",
   "name": "python",
   "nbconvert_exporter": "python",
   "pygments_lexer": "ipython3",
   "version": "3.10.9"
  }
 },
 "nbformat": 4,
 "nbformat_minor": 5
}
